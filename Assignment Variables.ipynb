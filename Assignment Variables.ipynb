{
 "cells": [
  {
   "cell_type": "markdown",
   "id": "6248dd32",
   "metadata": {},
   "source": [
    "### Q1. Write all the conventions being followed while declaring a variable.\n"
   ]
  },
  {
   "cell_type": "markdown",
   "id": "ba9cb3ac",
   "metadata": {},
   "source": [
    "#### When we are using variables in Python,we need to adhere to a few rules and guidelines.Following are the conventions beinng followed while declaring a variable :\n",
    "1. Variables names can obtain only letters,numbers,and underscores.They start with a letter or an underscore,but not with a number.\n",
    "Ex.: `message_1` but not `1_message`\n",
    "\n",
    "2. Spaces are not allowed in variables names,but underscores can be used to seperate wordsin variables names.\n",
    "Ex.:`greeting_message` works,but `greeting message` will cause errors.\n",
    "3. Avoid using Python keywords and function names as variables names;that is do not Python has reserved that Python has reserved for particular programmic purpose,such as the word `print`.\n",
    "\n",
    "4. Variables names should be short but descriptive.\n",
    "Ex.:*name* is better than *n*, *student_name* is better than *s_n*\n",
    "\n",
    "5. Be careful when using the lowercase letter *'l'* and then the uppercase letter *'O'* because they could be confused with the numbers *'1'* & *'0'*."
   ]
  },
  {
   "cell_type": "markdown",
   "id": "77a26646",
   "metadata": {},
   "source": [
    "### Q2. What will happen if we declare a restricted keyword as a variable?"
   ]
  },
  {
   "cell_type": "markdown",
   "id": "1dd2bcd9",
   "metadata": {},
   "source": [
    "Python comes with its own set of keywords and built-in functions. It's important to be aware of these when you're using naming variables.One challenge in programming is coming up with good variable names,which can be anything that's reasonably short & descriptive.But you can't use the name of any of Python's keywords,and you shouldn't use the name of any of python's built-in function because you'll overwrite the functions.Here are some Python's keywords that shouldn't be used as variables.\n",
    "\n",
    "### Python keywords\n",
    "\n",
    "False,class,finally,is,return \n",
    "None,continue,for,lamda,try"
   ]
  },
  {
   "cell_type": "markdown",
   "id": "51e14c64",
   "metadata": {},
   "source": [
    "### Q3. Can we actually declare a string as a variable name?\n",
    "\n",
    "Yes, we can do so by using built-in functions and methods avialable in Python. `globals()`,`locals() and `exec()` are functions and methods respectively to declare a string as a variable name.\n",
    "\n",
    "#### Using exec() method :\n",
    "we will have a variable named by us and an input string. We will then be applying the exec() method with some modifiers and trying to convert a string into a variable name.\n",
    "   "
   ]
  },
  {
   "cell_type": "code",
   "execution_count": 3,
   "id": "9e85b56b",
   "metadata": {},
   "outputs": [
    {
     "name": "stdout",
     "output_type": "stream",
     "text": [
      "output :  5000\n"
     ]
    }
   ],
   "source": [
    "#input string \n",
    "str = \"Pythonpool\"\n",
    " \n",
    "#apply exec() method\n",
    "exec(\"%s = %d\" % (str,5000))\n",
    " \n",
    "#print string\n",
    "print(\"output : \",Pythonpool)"
   ]
  },
  {
   "cell_type": "markdown",
   "id": "fb72c965",
   "metadata": {},
   "source": [
    "#### Using locals() function :\n",
    "\n",
    "we will be taking the input as a string. Then, we will apply the locals as a dictionary by putting some value to it. At last, we will print the input string and convert a string into a variable name."
   ]
  },
  {
   "cell_type": "code",
   "execution_count": 4,
   "id": "fd7b5650",
   "metadata": {},
   "outputs": [
    {
     "name": "stdout",
     "output_type": "stream",
     "text": [
      "5000\n"
     ]
    }
   ],
   "source": [
    "#taking input as a string\n",
    "str = \"pythonpool\"\n",
    " \n",
    "locals()[str] = 5000\n",
    "print(pythonpool)"
   ]
  },
  {
   "cell_type": "markdown",
   "id": "2b1883d2",
   "metadata": {},
   "source": [
    "#### Using globals() function :\n",
    "\n",
    "we will be taking the input as a string. Then, we will apply the globals as a dictionary by putting some value to it. At last, we will print the input string and convert a string into a variable name."
   ]
  },
  {
   "cell_type": "code",
   "execution_count": 5,
   "id": "02cdea5b",
   "metadata": {},
   "outputs": [
    {
     "name": "stdout",
     "output_type": "stream",
     "text": [
      "5000\n"
     ]
    }
   ],
   "source": [
    "#taking input as a string\n",
    "str = \"pythonpool\"\n",
    " \n",
    "globals()[str] = 5000\n",
    "print(pythonpool)"
   ]
  },
  {
   "cell_type": "markdown",
   "id": "c0814928",
   "metadata": {},
   "source": [
    "#### Q4.Is it possible for us to declare “_” as a variable? If so, then write an example of it.\n",
    "\n",
    "Yes, we can declare \"_\" as variable names.In Python,declaring a varible names,it must starts with a 'letter' or an underscore'_'\n"
   ]
  },
  {
   "cell_type": "code",
   "execution_count": 7,
   "id": "cee58c8e",
   "metadata": {},
   "outputs": [
    {
     "name": "stdout",
     "output_type": "stream",
     "text": [
      "shreyash\n"
     ]
    }
   ],
   "source": [
    "# '_' as a variable name \n",
    "\n",
    "_ = 'shreyash'\n",
    "print(_)"
   ]
  },
  {
   "cell_type": "markdown",
   "id": "af2a9509",
   "metadata": {},
   "source": [
    "##### Q5. Using an example, explain how the variables in python are dynamic in nature.\n",
    "\n",
    "Python is a dynamically typed language. It doesn’t know about the type of the variable until the code is run. So declaration is of no use. What it does is, It stores that value at some memory location and then binds that variable name to that memory container. And makes the contents of the container accessible through that variable name. So the data type does not matter. As it will get to know the type of the value at run-time."
   ]
  },
  {
   "cell_type": "code",
   "execution_count": 9,
   "id": "940edbd4",
   "metadata": {},
   "outputs": [
    {
     "name": "stdout",
     "output_type": "stream",
     "text": [
      "<class 'str'>\n",
      "<class 'int'>\n"
     ]
    }
   ],
   "source": [
    "name = 'shreyash'\n",
    "print(type(name))\n",
    "\n",
    "name = 9\n",
    "print(type(name))"
   ]
  },
  {
   "cell_type": "code",
   "execution_count": null,
   "id": "996d513a",
   "metadata": {},
   "outputs": [],
   "source": []
  }
 ],
 "metadata": {
  "kernelspec": {
   "display_name": "Python 3",
   "language": "python",
   "name": "python3"
  },
  "language_info": {
   "codemirror_mode": {
    "name": "ipython",
    "version": 3
   },
   "file_extension": ".py",
   "mimetype": "text/x-python",
   "name": "python",
   "nbconvert_exporter": "python",
   "pygments_lexer": "ipython3",
   "version": "3.8.8"
  }
 },
 "nbformat": 4,
 "nbformat_minor": 5
}
